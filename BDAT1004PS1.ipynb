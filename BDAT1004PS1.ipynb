{
 "cells": [
  {
   "cell_type": "markdown",
   "id": "7bb0eb08",
   "metadata": {},
   "source": [
    "# Question 1\n",
    "What data type is each of the following?"
   ]
  },
  {
   "cell_type": "code",
   "execution_count": null,
   "id": "82561604",
   "metadata": {},
   "outputs": [],
   "source": [
    "using System;\n",
    "\n",
    "namespace ConsoleApp1\n",
    "{\n",
    "    class Program\n",
    "    {\n",
    "        static void Main(string[] args)\n",
    "         {\n",
    "            //Console.WriteLine(GetType(5));\n",
    "                \n",
    "            Console.WriteLine(5.GetType());\n",
    "            Console.WriteLine(5.0.GetType());\n",
    "            Console.WriteLine((5>1).GetType());\n",
    "            Console.WriteLine('5'.GetType());\n",
    "            Console.WriteLine((5*2).GetType());\n",
    "            Console.WriteLine(('5'*2).GetType());\n",
    "            Console.WriteLine(('5'+'2').GetType());\n",
    "            Console.WriteLine((5/2).GetType());\n",
    "            Console.WriteLine((5 % 2).GetType());\n",
    "            //Console.WriteLine(typeof {5,2,1});\n",
    "            Console.WriteLine((5==3).GetType());\n",
    "            Console.WriteLine((3.14).GetType());\n",
    "\n",
    "        }\n",
    "    }\n",
    "}"
   ]
  },
  {
   "cell_type": "markdown",
   "id": "d96d6b15",
   "metadata": {},
   "source": [
    "<center><img title=\"a title\" alt=\"Alt text\" src=\"1.png\"></center"
   ]
  },
  {
   "cell_type": "markdown",
   "id": "71555e4a",
   "metadata": {},
   "source": [
    "# Question 2 \n",
    "a) How many letters are there in 'Supercalifragilisticexpialidocious'?"
   ]
  },
  {
   "cell_type": "code",
   "execution_count": null,
   "id": "9fd24e33",
   "metadata": {},
   "outputs": [],
   "source": [
    "using System;\n",
    "\n",
    "namespace ConsoleApp1\n",
    "{\n",
    "    class Program\n",
    "    {\n",
    "        static void Main(string[] args)\n",
    "        {\n",
    "            string txt = \"Supercalifragilisticexpialidocious\"; \n",
    "            Console.WriteLine(\"The length of the txt string is: \" + txt.Length);\n",
    "        }\n",
    "    }\n",
    "}"
   ]
  },
  {
   "cell_type": "markdown",
   "id": "4184d379",
   "metadata": {},
   "source": [
    "<center><img title=\"a title\" alt=\"Alt text\" src=\"2(a).png\"></center"
   ]
  },
  {
   "cell_type": "markdown",
   "id": "410a7097",
   "metadata": {},
   "source": [
    "# Question 2\n",
    "b) Does 'Supercalifragilisticexpialidocious' contain 'ice' as a substring?"
   ]
  },
  {
   "cell_type": "code",
   "execution_count": null,
   "id": "1e6c34ec",
   "metadata": {},
   "outputs": [],
   "source": [
    "using System;\n",
    "\n",
    "namespace ConsoleApp1\n",
    "{\n",
    "    class Program\n",
    "    {\n",
    "        static void Main(string[] args)\n",
    "        {\n",
    "            string txt = \"Supercalifragilisticexpialidocious\";\n",
    "            bool sub = txt.Contains(\"ice\");\n",
    "            Console.WriteLine(\"the txt string is: \" + sub);\n",
    "        }\n",
    "    }\n",
    "}"
   ]
  },
  {
   "cell_type": "markdown",
   "id": "4f4232aa",
   "metadata": {},
   "source": [
    "<center><img title=\"a title\" alt=\"Alt text\" src=\"2(b).png\"></center"
   ]
  },
  {
   "cell_type": "markdown",
   "id": "de3d0999",
   "metadata": {},
   "source": [
    "# Question 2\n",
    "c)Which of the following words is the longest:\n",
    "Supercalifragilisticexpialidocious, Honorificabilitudinitatibus, or Bababadalgharaghtakamminarronnkonn?"
   ]
  },
  {
   "cell_type": "code",
   "execution_count": null,
   "id": "0cedbc0e",
   "metadata": {},
   "outputs": [],
   "source": [
    "using System;\n",
    "\n",
    "namespace ConsoleApp1\n",
    "{\n",
    "    class Program\n",
    "    {\n",
    "        static void Main(string[] args)\n",
    "        {\n",
    "            String[] words = { \"Supercalifragilisticexpialidocious\", \"Honorificabilitudinitatibus\"\n",
    "                              , \"Bababadalgharaghtakamminarronnkonn\" };\n",
    "\n",
    "            string word = \"\";\n",
    "            int length = 0;\n",
    "\n",
    "            foreach (string w in words)\n",
    "            {\n",
    "                if (w.Length >= length)\n",
    "                {\n",
    "                    if (w.Length == length)\n",
    "                    {\n",
    "                        word += \",\" + w;\n",
    "                    }\n",
    "                    else\n",
    "                    {\n",
    "                        word = w;\n",
    "                    }\n",
    "                    length = w.Length;\n",
    "                }\n",
    "            }\n",
    "\n",
    "            Console.WriteLine(word);\n",
    "\n",
    "        }\n",
    "    }\n",
    "}"
   ]
  },
  {
   "cell_type": "markdown",
   "id": "73f243a5",
   "metadata": {},
   "source": [
    "<center><img title=\"a title\" alt=\"Alt text\" src=\"2(c).png\"></center"
   ]
  },
  {
   "cell_type": "markdown",
   "id": "12ae1aaf",
   "metadata": {},
   "source": [
    "# Question 2\n",
    "d)Which composer comes first in the dictionary: 'Berlioz', 'Borodin', 'Brian',\n",
    "'Bartok', 'Bellini', 'Buxtehude', 'Bernstein'. Which one comes last?"
   ]
  },
  {
   "cell_type": "code",
   "execution_count": null,
   "id": "fe3fbdfa",
   "metadata": {},
   "outputs": [],
   "source": [
    "using System;\n",
    "\n",
    "namespace ConsoleApp1\n",
    "{\n",
    "    class Program\n",
    "    {\n",
    "        static void Main(string[] args)\n",
    "        { \n",
    "            String[] strings =  {\"Berlioz\", \"Borodin\", \"Brian\",\"Bartok\", \"Bellini\", \"Buxtehude\", \"Bernstein\"};\n",
    "            Array.Sort(strings, StringComparer.InvariantCulture);\n",
    "            Console.WriteLine(\"This composer comes first in the dictionary :  \" + strings[0]);\n",
    "            Console.WriteLine(\"This composer comes last in the dictionary : \" + strings[strings.Length - 1]);\n",
    "\n",
    "        }\n",
    "    }\n",
    "}"
   ]
  },
  {
   "cell_type": "markdown",
   "id": "a045b7d2",
   "metadata": {},
   "source": [
    "<center><img title=\"a title\" alt=\"Alt text\" src=\"2(d).png\"></center"
   ]
  },
  {
   "cell_type": "markdown",
   "id": "da6f758e",
   "metadata": {},
   "source": [
    "# Question 3\n",
    "Implement function triangleArea(a,b,c)"
   ]
  },
  {
   "cell_type": "code",
   "execution_count": null,
   "id": "39f0ee21",
   "metadata": {},
   "outputs": [],
   "source": [
    "using System;\n",
    "\n",
    "namespace ConsoleApp1\n",
    "{\n",
    "    class Program\n",
    "    {\n",
    "        static void Main(string[] args)\n",
    "        {\n",
    "            double area = triangleArea(2, 2, 2);\n",
    "            Console.WriteLine(area);\n",
    "        }\n",
    "\n",
    "        public static double triangleArea(int a, int b, int c)\n",
    "        {\n",
    "            double s = (a + b + c) / 2.0;\n",
    "            double area = Math.Sqrt(s * (s - a) * (s - b) * (s - c));\n",
    "            return area;\n",
    "        }\n",
    "    }\n",
    "}"
   ]
  },
  {
   "cell_type": "markdown",
   "id": "8c293396",
   "metadata": {},
   "source": [
    "<center><img title=\"a title\" alt=\"Alt text\" src=\"3.png\"></center"
   ]
  },
  {
   "cell_type": "markdown",
   "id": "b03ef9f4",
   "metadata": {},
   "source": [
    "# Question 4\n",
    "Write a program in C# Sharp to separate odd and even integers in separate arrays."
   ]
  },
  {
   "cell_type": "code",
   "execution_count": null,
   "id": "0b5accf3",
   "metadata": {},
   "outputs": [],
   "source": [
    "using System;\n",
    "\n",
    "namespace ConsoleApp1\n",
    "{\n",
    "    class Program\n",
    "    {\n",
    "        static void Main(string[] args)\n",
    "        {\n",
    "            {\n",
    "\n",
    "                int i, j = 0, k = 0;\n",
    "\n",
    "                Console.WriteLine(\"Input the number of elements to be stored in the array :\");\n",
    "                int n = Convert.ToInt32(Console.ReadLine());\n",
    "                int[] arr1 = new int[n];\n",
    "                int[] arr2 = new int[n];\n",
    "                int[] arr3 = new int[n];\n",
    "\n",
    "                Console.Write(\"Input {0} elements in the array :\\n\", n);\n",
    "                for (i = 0; i < n; i++)\n",
    "                {\n",
    "                    Console.Write(\"element - {0} : \", i);\n",
    "                    arr1[i] = Convert.ToInt32(Console.ReadLine());\n",
    "                }\n",
    "\n",
    "\n",
    "\n",
    "                for (i = 0; i < n; i++)\n",
    "                {\n",
    "                    if (arr1[i] % 2 == 0)\n",
    "                    {\n",
    "                        arr2[j] = arr1[i];\n",
    "                        j++;\n",
    "                    }\n",
    "                    else\n",
    "                    {\n",
    "                        arr3[k] = arr1[i];\n",
    "                        k++;\n",
    "                    }\n",
    "                }\n",
    "\n",
    "                Console.Write(\"\\nThe Even elements are : \\n\");\n",
    "                for (i = 0; i < j; i++)\n",
    "                {\n",
    "                    Console.Write(\"{0} \", arr2[i]);\n",
    "                }\n",
    "\n",
    "                Console.Write(\"\\nThe Odd elements are :\\n\");\n",
    "                for (i = 0; i < k; i++)\n",
    "                {\n",
    "                    Console.Write(\"{0} \", arr3[i]);\n",
    "                }\n",
    "                Console.Write(\"\\n\\n\");\n",
    "            }\n",
    "\n",
    "\n",
    "        }"
   ]
  },
  {
   "cell_type": "markdown",
   "id": "8994e10e",
   "metadata": {},
   "source": [
    "<center><img title=\"a title\" alt=\"Alt text\" src=\"4.png\"></center"
   ]
  },
  {
   "cell_type": "markdown",
   "id": "4feaa183",
   "metadata": {},
   "source": [
    "# Question 5\n",
    "Write a function inside(x,y,x1,y1,x2,y2) that returns True or False depending on whether the point (x,y) lies in the rectangle with lower left corner (x1,y1) and upper right corner (x2,y2)."
   ]
  },
  {
   "cell_type": "code",
   "execution_count": null,
   "id": "70edd057",
   "metadata": {},
   "outputs": [],
   "source": [
    "namespace ConsoleApp1\n",
    "{\n",
    "    class Program\n",
    "    {\n",
    "        static bool inside(int x, int y, int x1, int y1, int x2,\n",
    "                           int y2)\n",
    "        {\n",
    "            if (x > x1 && x < x2 &&\n",
    "                y > y1 && y < y2)\n",
    "                return true;\n",
    "\n",
    "            return false;\n",
    "        }\n",
    "\n",
    "        // Driver code\n",
    "        public static void Main()\n",
    "        {\n",
    "            bool b = inside(1, 1, 0, 0, 2, 3);\n",
    "            Console.WriteLine(b);\n",
    "            bool b1 = inside(-1, -1, 0, 0, 2, 3);\n",
    "            Console.WriteLine(b1);\n",
    "\n",
    "        }\n",
    "    }\n",
    "}"
   ]
  },
  {
   "cell_type": "markdown",
   "id": "56c2abbc",
   "metadata": {},
   "source": [
    "<center><img title=\"a title\" alt=\"Alt text\" src=\"5.png\"></center"
   ]
  },
  {
   "cell_type": "markdown",
   "id": "3ce0f273",
   "metadata": {},
   "source": [
    "# Question 6\n",
    "Write a Pig Latin Function"
   ]
  },
  {
   "cell_type": "code",
   "execution_count": 34,
   "id": "5ebe3c41",
   "metadata": {},
   "outputs": [
    {
     "name": "stdout",
     "output_type": "stream",
     "text": [
      "Please Enter a word that need translation: Thinkpad\n",
      "Word in English is Thinkpad\n",
      "Final Pig Latin Word is hinkpadtay\n"
     ]
    },
    {
     "data": {
      "text/plain": [
       "'hinkpadtay'"
      ]
     },
     "execution_count": 34,
     "metadata": {},
     "output_type": "execute_result"
    }
   ],
   "source": [
    "Word = input('Please Enter a word that need translation: ')\n",
    "def pig(Word):\n",
    "    word = Word\n",
    "    print(\"Word in English is \" +word)\n",
    "    firstWord= word[0].lower()\n",
    "    #print(firstWord)\n",
    "    vowels = ['a','e','i','o','u']\n",
    "    if firstWord in vowels:\n",
    "        pigLatin= word + 'way'\n",
    "    else:\n",
    "        word = word[1:]\n",
    "        pigLatin = word + firstWord +'ay'\n",
    "    print(\"Final Pig Latin Word is \"+pigLatin)\n",
    "    return pigLatin\n",
    "pig(Word)\n",
    "#pig ('Enter')"
   ]
  },
  {
   "cell_type": "markdown",
   "id": "20dfdec1",
   "metadata": {},
   "source": [
    "# Question 7\n",
    "Write a function bldcount()"
   ]
  },
  {
   "cell_type": "code",
   "execution_count": 53,
   "id": "bf51bf3b",
   "metadata": {},
   "outputs": [
    {
     "data": {
      "text/plain": [
       "Counter({'AB': 13, 'B': 1, 'O': 15, 'A': 15})"
      ]
     },
     "execution_count": 53,
     "metadata": {},
     "output_type": "execute_result"
    }
   ],
   "source": [
    "infile = open('bloodtype1.txt', 'r')\n",
    "infile.readline()\n",
    "\n",
    "def numLines(filename):\n",
    "    'returns the number of lines in file filename'\n",
    "    infile = open(filename, 'r')\n",
    "    lineList = infile.readlines()\n",
    "    #print(lineList)\n",
    "    numWords('bloodtype1.txt')\n",
    "    infile = open(filename)\n",
    "    content = infile.read()\n",
    "    wordList = content.split()\n",
    "    #print(wordList)\n",
    "    counts=Counter(wordList)\n",
    "    #print(counts)\n",
    "    #myList = [A, B, AB, O, OO]\n",
    "    #for i in myList:\n",
    "    #    if counts[i] == 'A':\n",
    "     #       print (\"A blodd hroup is \" +counts[i]);\n",
    "    #print(myList);\n",
    "    \n",
    "    #if('AB' in lineList)\n",
    "        \n",
    "    infile.close()\n",
    "\n",
    "    return (counts)\n",
    "#infile.close()\n",
    "\n",
    "def numWords(filename):\n",
    "    'returns the number of words in file filename'\n",
    "\n",
    "    infile = open(filename)\n",
    "    content = infile.read()\n",
    "    infile.close()\n",
    "    wordList = content.split()\n",
    "\n",
    "    return len(wordList)\n",
    "\n",
    "numLines('bloodtype1.txt')\n",
    "#numWords('bloodtype1.txt')"
   ]
  },
  {
   "cell_type": "markdown",
   "id": "fd2a8171",
   "metadata": {},
   "source": [
    "# Question 8\n",
    "Write a function curconv() that takes as input:"
   ]
  },
  {
   "cell_type": "code",
   "execution_count": 62,
   "id": "d14690d8",
   "metadata": {},
   "outputs": [
    {
     "ename": "TypeError",
     "evalue": "'int' object is not iterable",
     "output_type": "error",
     "traceback": [
      "\u001b[1;31m---------------------------------------------------------------------------\u001b[0m",
      "\u001b[1;31mTypeError\u001b[0m                                 Traceback (most recent call last)",
      "\u001b[1;32m<ipython-input-62-f5ee7c9d52f1>\u001b[0m in \u001b[0;36m<module>\u001b[1;34m\u001b[0m\n\u001b[0;32m     15\u001b[0m \u001b[1;33m\u001b[0m\u001b[0m\n\u001b[0;32m     16\u001b[0m \u001b[1;33m\u001b[0m\u001b[0m\n\u001b[1;32m---> 17\u001b[1;33m \u001b[0mcurconv\u001b[0m\u001b[1;33m(\u001b[0m\u001b[1;34m'EUR'\u001b[0m\u001b[1;33m,\u001b[0m \u001b[1;36m100\u001b[0m\u001b[1;33m)\u001b[0m\u001b[1;33m\u001b[0m\u001b[1;33m\u001b[0m\u001b[0m\n\u001b[0m",
      "\u001b[1;32m<ipython-input-62-f5ee7c9d52f1>\u001b[0m in \u001b[0;36mcurconv\u001b[1;34m(currency, amount)\u001b[0m\n\u001b[0;32m      2\u001b[0m \u001b[1;33m\u001b[0m\u001b[0m\n\u001b[0;32m      3\u001b[0m \u001b[1;33m\u001b[0m\u001b[0m\n\u001b[1;32m----> 4\u001b[1;33m     \u001b[0mcounts\u001b[0m\u001b[1;33m=\u001b[0m \u001b[0mCounter\u001b[0m\u001b[1;33m(\u001b[0m\u001b[0mnumLines\u001b[0m\u001b[1;33m(\u001b[0m\u001b[1;34m'currency.txt'\u001b[0m\u001b[1;33m)\u001b[0m\u001b[1;33m)\u001b[0m\u001b[1;33m\u001b[0m\u001b[1;33m\u001b[0m\u001b[0m\n\u001b[0m\u001b[0;32m      5\u001b[0m     \u001b[1;32mreturn\u001b[0m \u001b[0mamount\u001b[0m\u001b[1;33m\u001b[0m\u001b[1;33m\u001b[0m\u001b[0m\n\u001b[0;32m      6\u001b[0m \u001b[1;33m\u001b[0m\u001b[0m\n",
      "\u001b[1;32m~\\anaconda3\\lib\\collections\\__init__.py\u001b[0m in \u001b[0;36m__init__\u001b[1;34m(self, iterable, **kwds)\u001b[0m\n\u001b[0;32m    550\u001b[0m         '''\n\u001b[0;32m    551\u001b[0m         \u001b[0msuper\u001b[0m\u001b[1;33m(\u001b[0m\u001b[0mCounter\u001b[0m\u001b[1;33m,\u001b[0m \u001b[0mself\u001b[0m\u001b[1;33m)\u001b[0m\u001b[1;33m.\u001b[0m\u001b[0m__init__\u001b[0m\u001b[1;33m(\u001b[0m\u001b[1;33m)\u001b[0m\u001b[1;33m\u001b[0m\u001b[1;33m\u001b[0m\u001b[0m\n\u001b[1;32m--> 552\u001b[1;33m         \u001b[0mself\u001b[0m\u001b[1;33m.\u001b[0m\u001b[0mupdate\u001b[0m\u001b[1;33m(\u001b[0m\u001b[0miterable\u001b[0m\u001b[1;33m,\u001b[0m \u001b[1;33m**\u001b[0m\u001b[0mkwds\u001b[0m\u001b[1;33m)\u001b[0m\u001b[1;33m\u001b[0m\u001b[1;33m\u001b[0m\u001b[0m\n\u001b[0m\u001b[0;32m    553\u001b[0m \u001b[1;33m\u001b[0m\u001b[0m\n\u001b[0;32m    554\u001b[0m     \u001b[1;32mdef\u001b[0m \u001b[0m__missing__\u001b[0m\u001b[1;33m(\u001b[0m\u001b[0mself\u001b[0m\u001b[1;33m,\u001b[0m \u001b[0mkey\u001b[0m\u001b[1;33m)\u001b[0m\u001b[1;33m:\u001b[0m\u001b[1;33m\u001b[0m\u001b[1;33m\u001b[0m\u001b[0m\n",
      "\u001b[1;32m~\\anaconda3\\lib\\collections\\__init__.py\u001b[0m in \u001b[0;36mupdate\u001b[1;34m(self, iterable, **kwds)\u001b[0m\n\u001b[0;32m    635\u001b[0m                     \u001b[0msuper\u001b[0m\u001b[1;33m(\u001b[0m\u001b[0mCounter\u001b[0m\u001b[1;33m,\u001b[0m \u001b[0mself\u001b[0m\u001b[1;33m)\u001b[0m\u001b[1;33m.\u001b[0m\u001b[0mupdate\u001b[0m\u001b[1;33m(\u001b[0m\u001b[0miterable\u001b[0m\u001b[1;33m)\u001b[0m \u001b[1;31m# fast path when counter is empty\u001b[0m\u001b[1;33m\u001b[0m\u001b[1;33m\u001b[0m\u001b[0m\n\u001b[0;32m    636\u001b[0m             \u001b[1;32melse\u001b[0m\u001b[1;33m:\u001b[0m\u001b[1;33m\u001b[0m\u001b[1;33m\u001b[0m\u001b[0m\n\u001b[1;32m--> 637\u001b[1;33m                 \u001b[0m_count_elements\u001b[0m\u001b[1;33m(\u001b[0m\u001b[0mself\u001b[0m\u001b[1;33m,\u001b[0m \u001b[0miterable\u001b[0m\u001b[1;33m)\u001b[0m\u001b[1;33m\u001b[0m\u001b[1;33m\u001b[0m\u001b[0m\n\u001b[0m\u001b[0;32m    638\u001b[0m         \u001b[1;32mif\u001b[0m \u001b[0mkwds\u001b[0m\u001b[1;33m:\u001b[0m\u001b[1;33m\u001b[0m\u001b[1;33m\u001b[0m\u001b[0m\n\u001b[0;32m    639\u001b[0m             \u001b[0mself\u001b[0m\u001b[1;33m.\u001b[0m\u001b[0mupdate\u001b[0m\u001b[1;33m(\u001b[0m\u001b[0mkwds\u001b[0m\u001b[1;33m)\u001b[0m\u001b[1;33m\u001b[0m\u001b[1;33m\u001b[0m\u001b[0m\n",
      "\u001b[1;31mTypeError\u001b[0m: 'int' object is not iterable"
     ]
    }
   ],
   "source": [
    "def curconv(currency,amount):\n",
    "    \n",
    "    \n",
    "    counts= Counter(numLines('currency.txt'))\n",
    "    return amount\n",
    "    \n",
    "def numLines(filename):\n",
    "    'returns the number of lines in file filename'\n",
    "\n",
    "    infile = open(filename, 'r')\n",
    "    lineList = infile.readlines()\n",
    "    infile.close()\n",
    "\n",
    "    return len(lineList)  \n",
    "\n",
    "\n",
    "curconv('EUR', 100)"
   ]
  },
  {
   "cell_type": "markdown",
   "id": "3fad4f2f",
   "metadata": {},
   "source": [
    "# Question 9\n",
    "Identify what type of exception each will cause"
   ]
  },
  {
   "cell_type": "code",
   "execution_count": 6,
   "id": "98301c60",
   "metadata": {},
   "outputs": [
    {
     "ename": "SyntaxError",
     "evalue": "invalid character in identifier (<ipython-input-6-dca53620359e>, line 1)",
     "output_type": "error",
     "traceback": [
      "\u001b[1;36m  File \u001b[1;32m\"<ipython-input-6-dca53620359e>\"\u001b[1;36m, line \u001b[1;32m1\u001b[0m\n\u001b[1;33m    print(6 + ‘a’) #SyntaxError: invalid character in identifier\u001b[0m\n\u001b[1;37m                ^\u001b[0m\n\u001b[1;31mSyntaxError\u001b[0m\u001b[1;31m:\u001b[0m invalid character in identifier\n"
     ]
    }
   ],
   "source": [
    "print(6 + ‘a’) #SyntaxError: invalid character in identifier"
   ]
  },
  {
   "cell_type": "code",
   "execution_count": 7,
   "id": "77e44de9",
   "metadata": {},
   "outputs": [
    {
     "ename": "IndexError",
     "evalue": "list index out of range",
     "output_type": "error",
     "traceback": [
      "\u001b[1;31m---------------------------------------------------------------------------\u001b[0m",
      "\u001b[1;31mIndexError\u001b[0m                                Traceback (most recent call last)",
      "\u001b[1;32m<ipython-input-7-b1dcc421a6e7>\u001b[0m in \u001b[0;36m<module>\u001b[1;34m\u001b[0m\n\u001b[0;32m      1\u001b[0m \u001b[0mlst\u001b[0m \u001b[1;33m=\u001b[0m \u001b[1;33m[\u001b[0m\u001b[1;36m1\u001b[0m\u001b[1;33m,\u001b[0m\u001b[1;36m2\u001b[0m\u001b[1;33m,\u001b[0m\u001b[1;36m3\u001b[0m\u001b[1;33m,\u001b[0m\u001b[1;36m4\u001b[0m\u001b[1;33m,\u001b[0m\u001b[1;36m5\u001b[0m\u001b[1;33m,\u001b[0m\u001b[1;36m6\u001b[0m\u001b[1;33m,\u001b[0m\u001b[1;36m7\u001b[0m\u001b[1;33m,\u001b[0m\u001b[1;36m8\u001b[0m\u001b[1;33m,\u001b[0m\u001b[1;36m9\u001b[0m\u001b[1;33m,\u001b[0m\u001b[1;36m0\u001b[0m\u001b[1;33m]\u001b[0m\u001b[1;33m\u001b[0m\u001b[1;33m\u001b[0m\u001b[0m\n\u001b[1;32m----> 2\u001b[1;33m \u001b[0mprint\u001b[0m\u001b[1;33m(\u001b[0m\u001b[0mlst\u001b[0m\u001b[1;33m[\u001b[0m\u001b[1;36m11\u001b[0m\u001b[1;33m]\u001b[0m\u001b[1;33m)\u001b[0m   \u001b[1;31m#IndexError: list index out of range\u001b[0m\u001b[1;33m\u001b[0m\u001b[1;33m\u001b[0m\u001b[0m\n\u001b[0m",
      "\u001b[1;31mIndexError\u001b[0m: list index out of range"
     ]
    }
   ],
   "source": [
    "lst = [1,2,3,4,5,6,7,8,9,0]\n",
    "print(lst[11])   #IndexError: list index out of range"
   ]
  },
  {
   "cell_type": "code",
   "execution_count": 14,
   "id": "b7adc4eb",
   "metadata": {},
   "outputs": [
    {
     "ename": "ValueError",
     "evalue": "math domain error",
     "output_type": "error",
     "traceback": [
      "\u001b[1;31m---------------------------------------------------------------------------\u001b[0m",
      "\u001b[1;31mValueError\u001b[0m                                Traceback (most recent call last)",
      "\u001b[1;32m<ipython-input-14-c4e360f36233>\u001b[0m in \u001b[0;36m<module>\u001b[1;34m\u001b[0m\n\u001b[0;32m      1\u001b[0m \u001b[1;32mimport\u001b[0m \u001b[0mmath\u001b[0m\u001b[1;33m\u001b[0m\u001b[1;33m\u001b[0m\u001b[0m\n\u001b[1;32m----> 2\u001b[1;33m \u001b[0mmath\u001b[0m\u001b[1;33m.\u001b[0m\u001b[0msqrt\u001b[0m\u001b[1;33m(\u001b[0m\u001b[1;33m-\u001b[0m\u001b[1;36m3\u001b[0m\u001b[1;33m)\u001b[0m\u001b[1;33m\u001b[0m\u001b[1;33m\u001b[0m\u001b[0m\n\u001b[0m",
      "\u001b[1;31mValueError\u001b[0m: math domain error"
     ]
    }
   ],
   "source": [
    "import math\n",
    "math.sqrt(-3)  #ValueError: math domain error"
   ]
  },
  {
   "cell_type": "code",
   "execution_count": 15,
   "id": "3a1aba7d",
   "metadata": {},
   "outputs": [
    {
     "ename": "NameError",
     "evalue": "name 'a' is not defined",
     "output_type": "error",
     "traceback": [
      "\u001b[1;31m---------------------------------------------------------------------------\u001b[0m",
      "\u001b[1;31mNameError\u001b[0m                                 Traceback (most recent call last)",
      "\u001b[1;32m<ipython-input-15-bca0e2660b9f>\u001b[0m in \u001b[0;36m<module>\u001b[1;34m\u001b[0m\n\u001b[1;32m----> 1\u001b[1;33m \u001b[0mprint\u001b[0m\u001b[1;33m(\u001b[0m\u001b[0ma\u001b[0m\u001b[1;33m)\u001b[0m\u001b[1;33m\u001b[0m\u001b[1;33m\u001b[0m\u001b[0m\n\u001b[0m",
      "\u001b[1;31mNameError\u001b[0m: name 'a' is not defined"
     ]
    }
   ],
   "source": [
    "print(a) #NameError: name 'a' is not defined"
   ]
  },
  {
   "cell_type": "code",
   "execution_count": 28,
   "id": "4407ae51",
   "metadata": {},
   "outputs": [
    {
     "ename": "FileNotFoundError",
     "evalue": "[Errno 2] No such file or directory: 'test1.txt'",
     "output_type": "error",
     "traceback": [
      "\u001b[1;31m---------------------------------------------------------------------------\u001b[0m",
      "\u001b[1;31mFileNotFoundError\u001b[0m                         Traceback (most recent call last)",
      "\u001b[1;32m<ipython-input-28-18f473a9cccd>\u001b[0m in \u001b[0;36m<module>\u001b[1;34m\u001b[0m\n\u001b[1;32m----> 1\u001b[1;33m \u001b[0minfile\u001b[0m \u001b[1;33m=\u001b[0m \u001b[0mopen\u001b[0m\u001b[1;33m(\u001b[0m\u001b[1;34m'test1.txt'\u001b[0m\u001b[1;33m)\u001b[0m  \u001b[1;31m#FileNotFoundError: [Errno 2] No such file or directory: 'test1.txt'\u001b[0m\u001b[1;33m\u001b[0m\u001b[1;33m\u001b[0m\u001b[0m\n\u001b[0m",
      "\u001b[1;31mFileNotFoundError\u001b[0m: [Errno 2] No such file or directory: 'test1.txt'"
     ]
    }
   ],
   "source": [
    "infile = open('test1.txt')  #FileNotFoundError: [Errno 2] No such file or directory: 'test1.txt'"
   ]
  },
  {
   "cell_type": "markdown",
   "id": "e42738a5",
   "metadata": {},
   "source": [
    "# Question 10\n",
    "Write a function called frequencies()"
   ]
  },
  {
   "cell_type": "code",
   "execution_count": 23,
   "id": "d1a756b4",
   "metadata": {},
   "outputs": [
    {
     "name": "stdout",
     "output_type": "stream",
     "text": [
      "[1, 1, 1, 3, 5, 1, 1, 2, 1, 0, 1, 0, 1, 2, 4, 0, 1, 2, 0, 2, 1, 0, 1, 1, 0, 0]\n",
      "[1, 0, 0, 0, 1, 0, 0, 0, 0, 0, 0, 1, 0, 0, 0, 2, 0, 0, 0, 0, 0, 0, 0, 0, 0, 0]\n"
     ]
    }
   ],
   "source": [
    "#from collections import Counter\n",
    "frequencies(\"The quick red fox got bored and went home.\")\n",
    "frequencies(\"apple\")    \n",
    "    \n",
    "\n",
    "def frequencies(word):\n",
    "    letters = \"abcdefghijklmnopqrstuvwxyz\";\n",
    "    my_list = []\n",
    "    counts=Counter(word)\n",
    "    for i in letters:\n",
    "        my_list.append(counts[i])\n",
    "        \n",
    "    print(my_list);\n"
   ]
  }
 ],
 "metadata": {
  "kernelspec": {
   "display_name": "Python 3",
   "language": "python",
   "name": "python3"
  },
  "language_info": {
   "codemirror_mode": {
    "name": "ipython",
    "version": 3
   },
   "file_extension": ".py",
   "mimetype": "text/x-python",
   "name": "python",
   "nbconvert_exporter": "python",
   "pygments_lexer": "ipython3",
   "version": "3.8.8"
  }
 },
 "nbformat": 4,
 "nbformat_minor": 5
}
